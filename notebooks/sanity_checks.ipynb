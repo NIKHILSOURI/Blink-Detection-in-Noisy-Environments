{
 "cells": [
  {
   "cell_type": "markdown",
   "id": "d8a0afec",
   "metadata": {},
   "source": [
    "# Sanity Checks — Blink EAR Pipeline\n",
    "This notebook helps you quickly verify the pipeline on **one sample video** from either the controlled or noisy folders.\n",
    "\n",
    "\n",
    "**What you'll do:**\n",
    "\n",
    "1. Configure paths and load the config.\n",
    "\n",
    "2. Pick a sample video automatically (first found) or set one manually.\n",
    "\n",
    "3. Run the EAR + blink detection.\n",
    "\n",
    "4. Plot EAR vs time and print blink stats.\n",
    "\n",
    "5. Compare short vs extended baseline segments.\n"
   ]
  },
  {
   "cell_type": "code",
   "execution_count": null,
   "id": "22c76443",
   "metadata": {},
   "outputs": [],
   "source": [
    "\n",
    "import os, numpy as np, pandas as pd, matplotlib.pyplot as plt\n",
    "from src.utils_io import load_cfg, list_videos, choose_baseline_frames\n",
    "from src.blink_ear import BlinkEAR, blink_features\n",
    "\n",
    "cfg = load_cfg(\"config.yaml\")\n",
    "print(cfg)\n"
   ]
  },
  {
   "cell_type": "code",
   "execution_count": null,
   "id": "0c445c07",
   "metadata": {},
   "outputs": [],
   "source": [
    "\n",
    "# Try to find a sample video in controlled, else in noisy\n",
    "cands = []\n",
    "for d in [cfg[\"paths\"][\"controlled_dir\"], cfg[\"paths\"][\"noisy_dir\"]]:\n",
    "    if os.path.isdir(d):\n",
    "        cands.extend(list_videos(d))\n",
    "if not cands:\n",
    "    raise SystemExit(\"No videos found. Please place some videos into data/controlled or data/noisy.\")\n",
    "sample_video = cands[0]\n",
    "sample_video\n"
   ]
  },
  {
   "cell_type": "code",
   "execution_count": null,
   "id": "f73f706a",
   "metadata": {},
   "outputs": [],
   "source": [
    "\n",
    "# Run EAR + blink detection\n",
    "be = BlinkEAR(cfg[\"ear_smooth_win\"], cfg[\"blink_min_frames\"], cfg[\"blink_merge_gap\"])\n",
    "ear, blinks = be.process_video(sample_video, cfg[\"fps_target\"])\n",
    "len(ear), len(blinks)\n"
   ]
  },
  {
   "cell_type": "code",
   "execution_count": null,
   "id": "ea8198fb",
   "metadata": {},
   "outputs": [],
   "source": [
    "\n",
    "# Plot EAR over time with blink intervals\n",
    "t = np.arange(len(ear)) / max(cfg[\"fps_target\"],1)\n",
    "plt.figure(figsize=(10,4))\n",
    "plt.plot(t, ear, linewidth=1.2)\n",
    "for (s,e) in blinks:\n",
    "    plt.axvspan(s/max(cfg[\"fps_target\"],1), e/max(cfg[\"fps_target\"],1), alpha=0.15)\n",
    "plt.xlabel(\"Time (s)\"); plt.ylabel(\"EAR\"); plt.title(\"EAR with blink intervals\")\n",
    "plt.tight_layout()\n",
    "plt.show()\n"
   ]
  },
  {
   "cell_type": "code",
   "execution_count": null,
   "id": "5f260b07",
   "metadata": {},
   "outputs": [],
   "source": [
    "\n",
    "# Quick stats\n",
    "dur_s = len(ear)/max(cfg[\"fps_target\"],1)\n",
    "rate = (len(blinks)/max(dur_s,1e-6))*60.0\n",
    "print(f\"Video: {sample_video}\")\n",
    "print(f\"Duration: {dur_s:.2f}s | Blinks: {len(blinks)} | Rate: {rate:.2f} blinks/min\")\n"
   ]
  },
  {
   "cell_type": "code",
   "execution_count": null,
   "id": "af5875d5",
   "metadata": {},
   "outputs": [],
   "source": [
    "\n",
    "# Compare features in short vs extended baselines\n",
    "total = len(ear)\n",
    "(s1,e1),(s2,e2) = choose_baseline_frames(total, cfg[\"fps_target\"],\n",
    "                                         cfg[\"baseline\"][\"short_sec\"],\n",
    "                                         cfg[\"baseline\"][\"extended_sec\"])\n",
    "\n",
    "def within(seg):\n",
    "    return [(max(s,seg[0]), min(e,seg[1])) for (s,e) in blinks if e>=seg[0] and s<=seg[1]]\n",
    "\n",
    "f_short = blink_features(within((s1,e1)), cfg[\"fps_target\"])\n",
    "f_ext   = blink_features(within((s2,e2)), cfg[\"fps_target\"])\n",
    "f_short, f_ext\n"
   ]
  }
 ],
 "metadata": {},
 "nbformat": 4,
 "nbformat_minor": 5
}
